{
 "cells": [
  {
   "cell_type": "markdown",
   "metadata": {},
   "source": [
    "# T2 - Plotting, printing, and saving\n",
    "\n",
    "This tutorial provides a brief overview of options for plotting results, printing objects, and saving results."
   ]
  },
  {
   "cell_type": "markdown",
   "metadata": {},
   "source": [
    "## Global plotting configuration\n",
    "\n",
    "Covasim allows the user to set various options that apply to all plots. You can change the font size, default DPI, whether plots should be shown by default, etc. (for the full list, see `help(cv.options.set)`). For example, we might want higher resolution, to turn off automatic figure display, close figures after they're rendered, and to turn off the messages that print when a simulation is running. We can do this (and then run a sim) with:"
   ]
  },
  {
   "cell_type": "code",
   "execution_count": 1,
   "metadata": {},
   "outputs": [
    {
     "name": "stdout",
     "output_type": "stream",
     "text": [
      "Covasim 2.0.2 (2020-02-01) — © 2021 by IDM\n"
     ]
    }
   ],
   "source": [
    "import covasim as cv\n",
    "\n",
    "cv.options.set(dpi=100, show=False, close=True, verbose=0)\n",
    "\n",
    "sim = cv.Sim()\n",
    "sim.run()"
   ]
  },
  {
   "cell_type": "markdown",
   "metadata": {},
   "source": [
    "## Printing objects\n",
    "\n",
    "There are three levels of detail available for most objects (sims, multisims, scenarios, and people). The shortest is `brief()`:"
   ]
  },
  {
   "cell_type": "code",
   "execution_count": 2,
   "metadata": {},
   "outputs": [
    {
     "name": "stdout",
     "output_type": "stream",
     "text": [
      "Sim(<no label>; 2020-03-01 to 2020-04-30; pop: 20000 random; epi: 13576⚙, 24☠)\n"
     ]
    }
   ],
   "source": [
    "sim.brief()"
   ]
  },
  {
   "cell_type": "markdown",
   "metadata": {},
   "source": [
    "You can get more detail with `summarize()`:"
   ]
  },
  {
   "cell_type": "code",
   "execution_count": 3,
   "metadata": {},
   "outputs": [
    {
     "name": "stdout",
     "output_type": "stream",
     "text": [
      "Simulation summary:\n",
      "   13576 cumulative infections\n",
      "   11814 cumulative infectious\n",
      "       0 cumulative tests\n",
      "       0 cumulative diagnoses\n",
      "    7139 cumulative recoveries\n",
      "    7733 cumulative symptomatic cases\n",
      "     515 cumulative severe cases\n",
      "     134 cumulative critical cases\n",
      "      24 cumulative deaths\n",
      "       0 cumulative quarantined people\n",
      "\n"
     ]
    }
   ],
   "source": [
    "sim.summarize()"
   ]
  },
  {
   "cell_type": "markdown",
   "metadata": {},
   "source": [
    "Finally, to show the full object, including all methods and attributes, use `disp()` (which is also the default if you just type `print(sim)`:"
   ]
  },
  {
   "cell_type": "code",
   "execution_count": 4,
   "metadata": {},
   "outputs": [
    {
     "name": "stdout",
     "output_type": "stream",
     "text": [
      "<covasim.sim.Sim at 0x103ddab38>\n",
      "————————————————————————————————————————————————————————————\n",
      "Methods:\n",
      "  _brief()            export_results()    plot()              \n",
      "  _disp()             finalize()          plot_result()       \n",
      "  _get_ia()           get_analyzer()      rescale()           \n",
      "  brief()             get_analyzers()     reset_layer_pars()  \n",
      "  compute_doubling()  get_intervention()  result_keys()       \n",
      "  compute_fit()       get_interventio...  run()               \n",
      "  compute_gen_time()  init_analyzers()    save()              \n",
      "  compute_prev_in...  init_interventi...  set_metadata()      \n",
      "  compute_r_eff()     init_people()       set_seed()          \n",
      "  compute_results()   init_results()      shrink()            \n",
      "  compute_summary()   initialize()        step()              \n",
      "  compute_yield()     layer_keys()        summarize()         \n",
      "  copy()              load()              to_excel()          \n",
      "  date()              load_data()         to_json()           \n",
      "  day()               load_population()   update_pars()       \n",
      "  disp()              make_age_histog...  validate_layer_...  \n",
      "  export_pars()       make_transtree()    validate_pars()     \n",
      "————————————————————————————————————————————————————————————\n",
      "Properties:\n",
      "  datevec             npts                tvec                \n",
      "  n                   scaled_pop_size     \n",
      "————————————————————————————————————————————————————————————\n",
      " _default_ver: None\n",
      "   _orig_pars: {'interventions': [], 'analyzers': []}\n",
      "     complete: True\n",
      "      created: datetime.datetime(2021, 3, 10, 16, 40, 19, 381455)\n",
      "         data: None\n",
      "     datafile: None\n",
      "     git_info: {'covasim': {'version': '2.0.2', 'branch': 'master',\n",
      "               'hash': '01046 [...]\n",
      "  initialized: True\n",
      "        label: None\n",
      "     load_pop: False\n",
      "         pars: {'pop_size': 20000, 'pop_infected': 20, 'pop_type':\n",
      "               'random', 'loca [...]\n",
      "       people: People(n=20000; layers: a)\n",
      "      popdict: None\n",
      "      popfile: None\n",
      "  rescale_vec: array([1., 1., 1., 1., 1., 1., 1., 1., 1., 1., 1., 1.,\n",
      "               1., 1., 1.,  [...]\n",
      "      results: #0: cum_infections.\n",
      "               <covasim.base.Result at 0x103ddac50>\n",
      "               —————————— [...]\n",
      "results_ready: True\n",
      "     save_pop: False\n",
      "      simfile: 'covasim_2021-Mar-10_16.40.19.sim'\n",
      "      summary: #0: cum_infections.  13576.0\n",
      "               #1: cum_infectious.  11814.0\n",
      "               #2: cum_t [...]\n",
      "            t: 60\n",
      "      version: '2.0.2'\n",
      "————————————————————————————————————————————————————————————\n",
      "\n"
     ]
    }
   ],
   "source": [
    "sim.disp()"
   ]
  },
  {
   "cell_type": "markdown",
   "metadata": {},
   "source": [
    "## Plotting options\n",
    "\n",
    "While a sim can be plotted using default settings simply by `sim.plot()`, this is just a small fraction of what's available. First, note that results can be plotted directly using e.g. Matplotlib. You can see what quantities are available for plotting with `sim.results.keys()` (remember, it's just a dict). A simple example of plotting using Matplotlib is:"
   ]
  },
  {
   "cell_type": "code",
   "execution_count": 5,
   "metadata": {},
   "outputs": [
    {
     "data": {
      "text/plain": [
       "[<matplotlib.lines.Line2D at 0x106325f28>]"
      ]
     },
     "execution_count": 5,
     "metadata": {},
     "output_type": "execute_result"
    },
    {
     "data": {
      "image/png": "[encoded data removed]",
      "text/plain": [
       "<Figure size 600x400 with 1 Axes>"
      ]
     },
     "metadata": {
      "needs_background": "light"
     },
     "output_type": "display_data"
    }
   ],
   "source": [
    "import pylab as pl # Shortcut for import matplotlib.pyplot as plt\n",
    "pl.plot(sim.results['date'], sim.results['new_infections'])"
   ]
  },
  {
   "cell_type": "markdown",
   "metadata": {},
   "source": [
    "However, as you can see, this isn't ideal since the default formatting is...not great. (Also, note that each result is a `Result` object, not a simple Numpy array; like a pandas dataframe, you can get the array of values directly via e.g. `sim.results['new_infections'].values`.)\n",
    "\n",
    "An alternative, if you only want to plot a single result, such as new infections, is to use the `plot_result()` method:"
   ]
  },
  {
   "cell_type": "code",
   "execution_count": 6,
   "metadata": {},
   "outputs": [
    {
     "data": {
      "image/png": "[encoded data removed]",
      "text/plain": [
       "<Figure size 800x500 with 1 Axes>"
      ]
     },
     "execution_count": 6,
     "metadata": {},
     "output_type": "execute_result"
    }
   ],
   "source": [
    "sim.plot_result('new_infections')"
   ]
  },
  {
   "cell_type": "markdown",
   "metadata": {},
   "source": [
    "You can also select one or more quantities to plot with the `to_plot` argument, e.g."
   ]
  },
  {
   "cell_type": "code",
   "execution_count": null,
   "metadata": {},
   "outputs": [],
   "source": [
    "sim.plot(to_plot=['new_infections', 'cum_infections'])"
   ]
  },
  {
   "cell_type": "markdown",
   "metadata": {},
   "source": [
    "Another useful option is to plot an overview of everything in a simulation. We can do this with the `to_plot='overview'` argument. It's quite a lot of information so we might also want to make a larger figure for it, which we can do by passing additional arguments via the `fig_args` argument (which is passed to `pl.figure()`)."
   ]
  },
  {
   "cell_type": "code",
   "execution_count": null,
   "metadata": {},
   "outputs": [],
   "source": [
    "sim.plot(to_plot='overview', fig_args=dict(figsize=(30,15)))"
   ]
  },
  {
   "cell_type": "markdown",
   "metadata": {},
   "source": [
    "## Saving options\n",
    "\n",
    "Saving is pretty simple. The simplest way to save is simply"
   ]
  },
  {
   "cell_type": "code",
   "execution_count": null,
   "metadata": {},
   "outputs": [],
   "source": [
    "sim.save('my-awesome-sim.sim')"
   ]
  },
  {
   "cell_type": "markdown",
   "metadata": {},
   "source": [
    "Technically, this saves as a gzipped pickle file (via `sc.saveobj()` using the Sciris library). By default this does not save the people in the sim since they are very large (and since, if the random seed is saved, they can usually be regenerated). If you want to save the people as well, you can use the `keep_people` argument. For example, here's what it would look like to create a sim, run it halfway, save it, load it, change the overall transmissibility (beta), and finish running it:"
   ]
  },
  {
   "cell_type": "code",
   "execution_count": null,
   "metadata": {},
   "outputs": [],
   "source": [
    "sim_orig = cv.Sim(start_day='2020-04-01', end_day='2020-06-01', label='Load & save example')\n",
    "sim_orig.run(until='2020-05-01')\n",
    "sim_orig.save('my-half-finished-sim.sim') # Note: Covasim always saves the people if the sim isn't finished running yet\n",
    "\n",
    "sim = cv.load('my-half-finished-sim.sim')\n",
    "sim['beta'] *= 0.3\n",
    "sim.run()\n",
    "sim.plot(to_plot=['new_infections', 'n_infectious', 'cum_infections'])"
   ]
  },
  {
   "cell_type": "markdown",
   "metadata": {},
   "source": [
    "Aside from saving the entire simulation, there are other export options available. You can export the results and parameters to a JSON file (using `sim.to_json()`), but probably the most useful is to export the results to an Excel workbook, where they can easily be stored and processed with e.g. Pandas:"
   ]
  },
  {
   "cell_type": "code",
   "execution_count": null,
   "metadata": {},
   "outputs": [],
   "source": [
    "import pandas as pd\n",
    "\n",
    "sim.to_excel('my-sim.xlsx')\n",
    "df = pd.read_excel('my-sim.xlsx')\n",
    "print(df)"
   ]
  }
 ],
 "metadata": {
  "kernelspec": {
   "display_name": "Python 3",
   "language": "python",
   "name": "python3"
  },
  "language_info": {
   "codemirror_mode": {
    "name": "ipython",
    "version": 3
   },
   "file_extension": ".py",
   "mimetype": "text/x-python",
   "name": "python",
   "nbconvert_exporter": "python",
   "pygments_lexer": "ipython3",
   "version": "3.6.13"
  },
  "pycharm": {
   "stem_cell": {
    "cell_type": "raw",
    "metadata": {
     "collapsed": false
    },
    "source": []
   }
  },
  "toc": {
   "base_numbering": 1,
   "nav_menu": {},
   "number_sections": true,
   "sideBar": true,
   "skip_h1_title": false,
   "title_cell": "Table of Contents",
   "title_sidebar": "Contents",
   "toc_cell": false,
   "toc_position": {},
   "toc_section_display": true,
   "toc_window_display": false
  }
 },
 "nbformat": 4,
 "nbformat_minor": 4
}
